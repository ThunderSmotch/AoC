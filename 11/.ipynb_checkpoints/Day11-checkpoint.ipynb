{
 "cells": [
  {
   "cell_type": "markdown",
   "id": "e01c7111",
   "metadata": {},
   "source": []
  },
  {
   "cell_type": "code",
   "execution_count": null,
   "id": "f5238c6c",
   "metadata": {},
   "outputs": [],
   "source": [
    "f = open(\"input.txt\", \"r\")\n",
    "lines = f.read().splitlines()\n",
    "\n",
    "for line in lines:\n",
    "    pass"
   ]
  },
  {
   "cell_type": "markdown",
   "id": "8376483b",
   "metadata": {},
   "source": []
  },
  {
   "cell_type": "code",
   "execution_count": null,
   "id": "6899408d",
   "metadata": {},
   "outputs": [],
   "source": []
  }
 ],
 "metadata": {
  "kernelspec": {
   "display_name": "Python 3 (ipykernel)",
   "language": "python",
   "name": "python3"
  },
  "language_info": {
   "codemirror_mode": {
    "name": "ipython",
    "version": 3
   },
   "file_extension": ".py",
   "mimetype": "text/x-python",
   "name": "python",
   "nbconvert_exporter": "python",
   "pygments_lexer": "ipython3",
   "version": "3.9.13"
  }
 },
 "nbformat": 4,
 "nbformat_minor": 5
}
