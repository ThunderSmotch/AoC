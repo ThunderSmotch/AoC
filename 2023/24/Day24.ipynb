{
 "cells": [
  {
   "cell_type": "markdown",
   "id": "076b9ec8-41ff-4708-81c4-7de241f0b39f",
   "metadata": {},
   "source": [
    "### --- Day 24: Never Tell Me The Odds ---\n",
    "\n",
    "It seems like something is going wrong with the snow-making process. Instead of forming snow, the water that's been absorbed into the air seems to be forming hail!\n",
    "\n",
    "Maybe there's something you can do to break up the hailstones?\n",
    "\n",
    "Due to strong, probably-magical winds, the hailstones are all flying through the air in perfectly linear trajectories. You make a note of each hailstone's position and velocity (your puzzle input). For example:\n",
    "```\n",
    "19, 13, 30 @ -2,  1, -2\n",
    "18, 19, 22 @ -1, -1, -2\n",
    "20, 25, 34 @ -2, -2, -4\n",
    "12, 31, 28 @ -1, -2, -1\n",
    "20, 19, 15 @  1, -5, -3\n",
    "```\n",
    "Each line of text corresponds to the position and velocity of a single hailstone. The positions indicate where the hailstones are right now (at time 0). The velocities are constant and indicate exactly how far each hailstone will move in one nanosecond.\n",
    "\n",
    "Each line of text uses the format px py pz @ vx vy vz. For instance, the hailstone specified by 20, 19, 15 @ 1, -5, -3 has initial X position 20, Y position 19, Z position 15, X velocity 1, Y velocity -5, and Z velocity -3. After one nanosecond, the hailstone would be at 21, 14, 12.\n",
    "\n",
    "Perhaps you won't have to do anything. How likely are the hailstones to collide with each other and smash into tiny ice crystals?\n",
    "\n",
    "To estimate this, consider only the X and Y axes; ignore the Z axis. Looking forward in time, how many of the hailstones' paths will intersect within a test area? (The hailstones themselves don't have to collide, just test for intersections between the paths they will trace.)\n",
    "\n",
    "In this example, look for intersections that happen with an X and Y position each at least 7 and at most 27; in your actual data, you'll need to check a much larger test area. Comparing all pairs of hailstones' future paths produces the following results:\n",
    "```\n",
    "Hailstone A: 19, 13, 30 @ -2, 1, -2\n",
    "Hailstone B: 18, 19, 22 @ -1, -1, -2\n",
    "Hailstones' paths will cross inside the test area (at x=14.333, y=15.333).\n",
    "\n",
    "Hailstone A: 19, 13, 30 @ -2, 1, -2\n",
    "Hailstone B: 20, 25, 34 @ -2, -2, -4\n",
    "Hailstones' paths will cross inside the test area (at x=11.667, y=16.667).\n",
    "\n",
    "Hailstone A: 19, 13, 30 @ -2, 1, -2\n",
    "Hailstone B: 12, 31, 28 @ -1, -2, -1\n",
    "Hailstones' paths will cross outside the test area (at x=6.2, y=19.4).\n",
    "\n",
    "Hailstone A: 19, 13, 30 @ -2, 1, -2\n",
    "Hailstone B: 20, 19, 15 @ 1, -5, -3\n",
    "Hailstones' paths crossed in the past for hailstone A.\n",
    "\n",
    "Hailstone A: 18, 19, 22 @ -1, -1, -2\n",
    "Hailstone B: 20, 25, 34 @ -2, -2, -4\n",
    "Hailstones' paths are parallel; they never intersect.\n",
    "\n",
    "Hailstone A: 18, 19, 22 @ -1, -1, -2\n",
    "Hailstone B: 12, 31, 28 @ -1, -2, -1\n",
    "Hailstones' paths will cross outside the test area (at x=-6, y=-5).\n",
    "\n",
    "Hailstone A: 18, 19, 22 @ -1, -1, -2\n",
    "Hailstone B: 20, 19, 15 @ 1, -5, -3\n",
    "Hailstones' paths crossed in the past for both hailstones.\n",
    "\n",
    "Hailstone A: 20, 25, 34 @ -2, -2, -4\n",
    "Hailstone B: 12, 31, 28 @ -1, -2, -1\n",
    "Hailstones' paths will cross outside the test area (at x=-2, y=3).\n",
    "\n",
    "Hailstone A: 20, 25, 34 @ -2, -2, -4\n",
    "Hailstone B: 20, 19, 15 @ 1, -5, -3\n",
    "Hailstones' paths crossed in the past for hailstone B.\n",
    "\n",
    "Hailstone A: 12, 31, 28 @ -1, -2, -1\n",
    "Hailstone B: 20, 19, 15 @ 1, -5, -3\n",
    "Hailstones' paths crossed in the past for both hailstones.\n",
    "```\n",
    "So, in this example, 2 hailstones' future paths cross inside the boundaries of the test area.\n",
    "\n",
    "However, you'll need to search a much larger test area if you want to see if any hailstones might collide. Look for intersections that happen with an X and Y position each at least 200000000000000 and at most 400000000000000. Disregard the Z axis entirely.\n",
    "\n",
    "Considering only the X and Y axes, check all pairs of hailstones' future paths for intersections. How many of these intersections occur within the test area?"
   ]
  },
  {
   "cell_type": "code",
   "execution_count": 16,
   "id": "958a217e-40e7-435f-9087-0944d1567db9",
   "metadata": {},
   "outputs": [],
   "source": [
    "        # Calculations\n",
    "        # k = (pos2[0] - pos[0] + t*vel2[0])/vel[0]\n",
    "\n",
    "        # pos[1] - pos2[1] = t*vel2[1] - k*vel[1]\n",
    "        # y1 - y2 = t*vel2[1] - ( x2 - x1 + t*vel2[0] )*vel[1]/vel[0]\n",
    "\n",
    "        # (y1 - y2)*vel[0] + (x2-x1)*vel[1] = t*(vel2[1]*vel[0] - vel2[0]*vel[1]) \n",
    "\n",
    "        # pos[0] + k*vel[0], pos[1] + k*vel[1]\n",
    "        # pos2[0] + t*vel2[0], pos2[1] + t*vel2[1]\n",
    "        # \n",
    "        # pos[1] - pos2[1] = t*vel2[1] - ( pos2[0] - pos[0] + t*vel2[0] )*vel[1]/vel[0]\n",
    "        # (pos[1] - pos2[1])*vel[0] + (pos2[0] - pos[0])*vel[1] = t*(vel2[1]*vel[0] - vel2[0]*vel[1]) \n"
   ]
  },
  {
   "cell_type": "code",
   "execution_count": 86,
   "id": "9e77a7b6-0d71-465e-aba9-0ce961d9a343",
   "metadata": {},
   "outputs": [
    {
     "data": {
      "text/plain": [
       "15558"
      ]
     },
     "execution_count": 86,
     "metadata": {},
     "output_type": "execute_result"
    }
   ],
   "source": [
    "pos = []\n",
    "vel = []\n",
    "\n",
    "min_pos = 200000000000000 #7\n",
    "max_pos = 400000000000000 #27\n",
    "\n",
    "for line in open(\"input.txt\"):\n",
    "    line = line.strip().split(\" @ \")\n",
    "    pos.append([ int(num) for num in line[0].split(',') ] )\n",
    "    vel.append([ int(num) for num in line[1].split(',') ] )\n",
    "\n",
    "intersections = 0\n",
    "\n",
    "for hail in range(len(pos) - 1):\n",
    "    pos1 = pos[hail]\n",
    "    vel1 = vel[hail]\n",
    "    for hail2 in range(hail + 1, len(pos)):\n",
    "        pos2 = pos[hail2]\n",
    "        vel2 = vel[hail2]\n",
    "\n",
    "        dp = vel2[1]*vel1[0]-vel2[0]*vel1[1]\n",
    "\n",
    "        if dp == 0: # Parallel velocities TODO\n",
    "            if pos2 == pos1:\n",
    "                print(\"Same place:\", pos1)\n",
    "                intersections += 1\n",
    "            pass\n",
    "        else:\n",
    "            t = ((pos1[1] - pos2[1])*vel1[0] + (pos2[0] - pos1[0])*vel1[1])/dp\n",
    "            k = (pos2[0] - pos1[0] + t*vel2[0])/vel1[0]\n",
    "\n",
    "            if k < 0 or t < 0:\n",
    "                continue\n",
    "            \n",
    "            x = pos2[0] + t*vel2[0]\n",
    "            y = pos2[1] + t*vel2[1]\n",
    "            if min_pos <= x and x <= max_pos and min_pos <= y and y <= max_pos: \n",
    "                intersections += 1\n",
    "                #print(\"Intersection at: \", x, \" -- \", y)\n",
    "\n",
    "intersections"
   ]
  },
  {
   "cell_type": "markdown",
   "id": "52963789-2f44-49db-a4f7-5cb4305d8056",
   "metadata": {},
   "source": [
    "### --- Part Two ---\n",
    "\n",
    "Upon further analysis, it doesn't seem like any hailstones will naturally collide. It's up to you to fix that!\n",
    "\n",
    "You find a rock on the ground nearby. While it seems extremely unlikely, if you throw it just right, you should be able to hit every hailstone in a single throw!\n",
    "\n",
    "You can use the probably-magical winds to reach any integer position you like and to propel the rock at any integer velocity. Now including the Z axis in your calculations, if you throw the rock at time 0, where do you need to be so that the rock perfectly collides with every hailstone? Due to probably-magical inertia, the rock won't slow down or change direction when it collides with a hailstone.\n",
    "\n",
    "In the example above, you can achieve this by moving to position 24, 13, 10 and throwing the rock at velocity -3, 1, 2. If you do this, you will hit every hailstone as follows:\n",
    "```\n",
    "Hailstone: 19, 13, 30 @ -2, 1, -2\n",
    "Collision time: 5\n",
    "Collision position: 9, 18, 20\n",
    "\n",
    "Hailstone: 18, 19, 22 @ -1, -1, -2\n",
    "Collision time: 3\n",
    "Collision position: 15, 16, 16\n",
    "\n",
    "Hailstone: 20, 25, 34 @ -2, -2, -4\n",
    "Collision time: 4\n",
    "Collision position: 12, 17, 18\n",
    "\n",
    "Hailstone: 12, 31, 28 @ -1, -2, -1\n",
    "Collision time: 6\n",
    "Collision position: 6, 19, 22\n",
    "\n",
    "Hailstone: 20, 19, 15 @ 1, -5, -3\n",
    "Collision time: 1\n",
    "Collision position: 21, 14, 12\n",
    "```\n",
    "Above, each hailstone is identified by its initial position and its velocity. Then, the time and position of that hailstone's collision with your rock are given.\n",
    "\n",
    "After 1 nanosecond, the rock has exactly the same position as one of the hailstones, obliterating it into ice dust! Another hailstone is smashed to bits two nanoseconds after that. After a total of 6 nanoseconds, all of the hailstones have been destroyed.\n",
    "\n",
    "So, at time 0, the rock needs to be at X position 24, Y position 13, and Z position 10. Adding these three coordinates together produces 47. (Don't add any coordinates from the rock's velocity.)\n",
    "\n",
    "Determine the exact position and velocity the rock needs to have at time 0 so that it perfectly collides with every hailstone. What do you get if you add up the X, Y, and Z coordinates of that initial position?\n"
   ]
  },
  {
   "cell_type": "code",
   "execution_count": 25,
   "id": "4cfb0ccc-5549-4fd4-b208-bc0b9f39f48a",
   "metadata": {},
   "outputs": [
    {
     "data": {
      "text/plain": [
       "[[-2, 1, -2], [-1, -1, -2], [-2, -2, -4], [-1, -2, -1], [1, -5, -3]]"
      ]
     },
     "execution_count": 25,
     "metadata": {},
     "output_type": "execute_result"
    }
   ],
   "source": [
    "vel"
   ]
  },
  {
   "cell_type": "code",
   "execution_count": 26,
   "id": "5e255ae1-9132-4aad-bdb2-2f49edb47cbc",
   "metadata": {},
   "outputs": [
    {
     "data": {
      "text/plain": [
       "[[19, 13, 30], [18, 19, 22], [20, 25, 34], [12, 31, 28], [20, 19, 15]]"
      ]
     },
     "execution_count": 26,
     "metadata": {},
     "output_type": "execute_result"
    }
   ],
   "source": [
    "pos"
   ]
  },
  {
   "cell_type": "code",
   "execution_count": 66,
   "id": "ce9327f9-42b5-416f-a81b-bab2f9906e33",
   "metadata": {},
   "outputs": [],
   "source": [
    "MIN = -1000\n",
    "MAX = 1000\n",
    "\n",
    "def restrict_range(coord = 0, min_v = -10, max_v = 10):\n",
    "    min_p = MIN\n",
    "    max_p = MAX\n",
    "\n",
    "    vs = {}\n",
    "    \n",
    "    for v in range(min_v, max_v):\n",
    "        for hail in range(len(pos)):\n",
    "            ph = pos[hail]\n",
    "            vh = vel[hail]\n",
    "    \n",
    "            dv = vh[coord] - v\n",
    "    \n",
    "            if dv > 0:\n",
    "                if ph[coord] > min_p:\n",
    "                    min_p = ph[coord]\n",
    "            elif dv < 0:\n",
    "                if ph[coord] < max_p:\n",
    "                    max_p = ph[coord]\n",
    "            else:\n",
    "                min_p = ph[coord]\n",
    "                max_p = ph[coord]\n",
    "                break\n",
    "        if min_p > max_p:\n",
    "            continue\n",
    "        vs[v] = (min_p, max_p)\n",
    "\n",
    "    return vs"
   ]
  },
  {
   "cell_type": "code",
   "execution_count": 81,
   "id": "15724be7-a74e-498c-96c0-239f1827dc75",
   "metadata": {},
   "outputs": [
    {
     "name": "stdout",
     "output_type": "stream",
     "text": [
      "(31, 1000) 14.375 1361.875 (34, 1000) 31.0 1011.0 0.125 122.625\n",
      "(31, 1000) 21.0 1001.0 (34, 1000) 23.77777777777778 894.8888888888889 0.2222222222222222 109.11111111111111\n",
      "(31, 1000) 25.0 1005.0 (34, 1000) 34.0 769.0 0.0 122.5\n",
      "(31, 1000) 38.111111111111114 909.2222222222222 (34, 1000) 36.0 1016.0 0.8888888888888888 109.77777777777777\n",
      "(31, 1000) 19.0 464.4545454545455 (34, 1000) 15.0 638.6363636363636 0.0 89.0909090909091\n",
      "-10 -10 -10\n"
     ]
    },
    {
     "ename": "TypeError",
     "evalue": "exceptions must derive from BaseException",
     "output_type": "error",
     "traceback": [
      "\u001b[1;31m---------------------------------------------------------------------------\u001b[0m",
      "\u001b[1;31mTypeError\u001b[0m                                 Traceback (most recent call last)",
      "Cell \u001b[1;32mIn[81], line 51\u001b[0m\n\u001b[0;32m     49\u001b[0m \u001b[38;5;28;01mif\u001b[39;00m solve(vx, vy, vz, range_x, range_y, range_z):\n\u001b[0;32m     50\u001b[0m     \u001b[38;5;28mprint\u001b[39m(vx, vy, vz)\n\u001b[1;32m---> 51\u001b[0m \u001b[38;5;28;01mraise\u001b[39;00m \u001b[38;5;124m\"\u001b[39m\u001b[38;5;124mX\u001b[39m\u001b[38;5;124m\"\u001b[39m\n",
      "\u001b[1;31mTypeError\u001b[0m: exceptions must derive from BaseException"
     ]
    }
   ],
   "source": [
    "def solve(vx, vy, vz, rx, ry, rz):\n",
    "    for hail in range(len(pos)):\n",
    "        p = pos[hail]\n",
    "        v = vel[hail]\n",
    "\n",
    "        t1 = (rx[0] - p[0])/(v[0] - vx)\n",
    "        t2 = (rx[1] - p[0])/(v[0] - vx)\n",
    "    \n",
    "        if t2 < t1:\n",
    "            temp = t1\n",
    "            t1 = t2\n",
    "            t2 = temp\n",
    "    \n",
    "        y1 = t1*(v[1] - vy) + p[1]\n",
    "        y2 = t2*(v[1] - vy) + p[1]\n",
    "    \n",
    "        if y2 < y1:\n",
    "            temp = y1\n",
    "            y1 = y2\n",
    "            y2 = temp\n",
    "    \n",
    "        if y2 < ry[0] or y1 > ry[1]:\n",
    "            return False\n",
    "        \n",
    "        z1 = t1*(v[2] - vz) + p[2]\n",
    "        z2 = t2*(v[2] - vz) + p[2]\n",
    "    \n",
    "        if z2 < y1:\n",
    "            temp = z1\n",
    "            z1 = z2\n",
    "            z2 = temp\n",
    "    \n",
    "        if z2 < rz[0] or z1 > rz[1]:\n",
    "            return False\n",
    "\n",
    "        print(ry, y1, y2, rz, z1, z2, t1, t2)\n",
    "    return True\n",
    "    \n",
    "vx_range = restrict_range(0, -10, 10)\n",
    "vy_range = restrict_range(1, -10, 10)\n",
    "vz_range = restrict_range(2, -10, 10)\n",
    "\n",
    "for vx in vx_range:\n",
    "    range_x = vx_range[vx]\n",
    "    for vy in vy_range:\n",
    "        range_y = vy_range[vy]\n",
    "        for vz in vz_range:\n",
    "            range_z = vz_range[vz]\n",
    "            if solve(vx, vy, vz, range_x, range_y, range_z):\n",
    "                print(vx, vy, vz)\n",
    "            raise \"X\""
   ]
  },
  {
   "cell_type": "code",
   "execution_count": null,
   "id": "ff0ea380-1cba-4aad-b08d-1cf49118214f",
   "metadata": {},
   "outputs": [],
   "source": []
  },
  {
   "cell_type": "code",
   "execution_count": 41,
   "id": "00c93237-8606-433e-830a-536e7c0a9544",
   "metadata": {},
   "outputs": [
    {
     "data": {
      "text/plain": [
       "{-10: (34, 100000000000000000000),\n",
       " -9: (34, 100000000000000000000),\n",
       " -8: (34, 100000000000000000000),\n",
       " -7: (34, 100000000000000000000),\n",
       " -6: (34, 100000000000000000000),\n",
       " -5: (34, 100000000000000000000),\n",
       " -4: (34, 34),\n",
       " -3: (15, 15),\n",
       " -2: (30, 30),\n",
       " -1: (28, 28)}"
      ]
     },
     "execution_count": 41,
     "metadata": {},
     "output_type": "execute_result"
    }
   ],
   "source": [
    "restrict_range(2, -10, 10)"
   ]
  },
  {
   "cell_type": "code",
   "execution_count": 82,
   "id": "3c8619a4-9bb1-466e-b8ed-ff27b1e8527c",
   "metadata": {},
   "outputs": [
    {
     "data": {
      "text/plain": [
       "[[19, 13, 30], [18, 19, 22], [20, 25, 34], [12, 31, 28], [20, 19, 15]]"
      ]
     },
     "execution_count": 82,
     "metadata": {},
     "output_type": "execute_result"
    }
   ],
   "source": [
    "pos"
   ]
  },
  {
   "cell_type": "code",
   "execution_count": 123,
   "id": "c50ed9d5-cf68-4668-99c2-03e94ed17f08",
   "metadata": {},
   "outputs": [
    {
     "name": "stdout",
     "output_type": "stream",
     "text": [
      "8 [2, 2, 2, 2, 2, 3, 11, 13, 682417193] False\n",
      "-70 [2, 2, 2, 3, 7, 13, 13, 5438181461] False\n",
      "41 [2, 2, 2, 2, 3, 3, 11, 71, 607, 458053] True\n",
      "28 [2, 2, 3, 7, 22291, 13868339] True\n",
      "-74 [2, 3, 5, 13, 31, 491, 8504767] True\n",
      "6 [2, 7, 53, 109, 659, 879169] True\n",
      "140 [2, 2, 3, 7, 197, 5171, 163309] False\n",
      "-39 [3, 17, 151, 30763, 245789] False\n",
      "18 [2, 3, 3, 3, 47, 523, 2521, 4447] False\n",
      "98 [2, 2, 3, 3, 7, 11, 870437917] True\n",
      "35 [2, 3, 5, 5, 7, 11, 1151, 769243] False\n",
      "43 [2, 3, 23, 8329, 49686127] False\n",
      "58 [2, 2, 2, 3, 3, 3, 3, 1451, 18750139] True\n",
      "58 [2, 3, 3, 3, 5, 12239, 476713] True\n",
      "-93 [2, 3, 5, 41, 1933, 50503] True\n",
      "-234 [2, 5, 13, 173, 9241, 436061] True\n",
      "13 [3, 3, 3, 11, 147071638117] True\n",
      "73 [2, 2, 2, 3, 13, 13, 2171966789] False\n",
      "-12 [2, 2, 2, 3, 5, 31, 131, 367, 158351] True\n",
      "-143 [2, 3, 5, 13, 17, 193, 449, 96797] True\n",
      "-143 [3, 5, 5, 17, 17, 25801, 229399] False\n",
      "-58 [2, 5, 17, 137, 3962096861] False\n",
      "-58 [2, 2, 2, 2, 3, 3, 3, 5, 13, 17, 88737871] False\n",
      "-58 [2, 2, 5, 5, 17, 2267, 28717907] False\n",
      "-58 [2, 5, 17, 19, 10663, 1449337] True\n",
      "-58 [2, 3, 5, 17, 43, 59, 181, 251, 313] False\n",
      "92 [2, 2, 5, 597606954713] False\n",
      "92 [2, 2, 2, 3, 3, 3, 5, 907, 9757703] False\n",
      "92 [2, 2, 5, 7, 7, 11, 11, 139, 47147] False\n",
      "210 [2, 7, 7, 97, 14983, 280243] False\n",
      "210 [2, 2, 2, 3, 5, 7, 7, 29, 12452291] True\n",
      "210 [2, 2, 7, 7, 129550761481] False\n",
      "-269 [2, 3, 3, 83, 127, 307621759] False\n",
      "-32 [2, 2, 2, 2, 2, 3, 3, 5, 5, 7, 31, 27430387] True\n",
      "-32 [2, 2, 2, 2, 2, 2, 2, 3, 3, 96522839587] True\n",
      "-32 [2, 2, 2, 2, 3, 3, 3, 3, 35322168181] True\n",
      "10 [2, 3, 5, 5, 5, 13, 13, 17, 16325707] False\n",
      "-152 [2, 2, 2, 3, 3, 5, 11, 17, 3767, 151643] True\n",
      "54 [2, 2, 29, 2027, 35319197] False\n",
      "54 [2, 29, 67, 157, 673, 13687] False\n",
      "54 [2, 29, 1579, 1601, 18311] True\n",
      "72 [2, 2, 2, 3, 5, 11, 59, 173, 908623] False\n",
      "58 [2, 3, 3, 3, 7, 13, 19, 421, 408437] False\n",
      "-139 [7, 251, 1123, 64749557] False\n",
      "-155 [2, 3, 23, 89, 43717, 58771] False\n",
      "-155 [2, 2, 3, 3, 5, 5, 7, 89, 1847, 30293] False\n",
      "-77 [2, 3, 3, 3, 5, 7, 83, 151170277] False\n",
      "85 [3, 3, 3, 3, 3, 3, 3, 19, 29, 1181, 10531] True\n",
      "-20 [2, 2, 2, 3, 3, 11, 19, 139, 311, 85121] True\n",
      "-17 [3, 3, 3, 3, 43, 107, 31884691] False\n",
      "251 [139, 607, 683, 1488943] False\n",
      "-50 [2, 3, 3, 3, 3, 11, 19, 983, 4000063] True\n",
      "12 [2, 2, 5, 5, 97, 1989102139] False\n",
      "-134 [2, 3, 3, 41, 38699979673] True\n",
      "48 [2, 2, 2, 2, 2, 2, 3, 3, 11, 2041090361] True\n",
      "-58 [2, 2, 5, 17, 210499, 954539] False\n",
      "210 [2, 7, 7, 19, 29101, 775807] True\n",
      "210 [2, 7, 7, 79, 34679, 54091] True\n",
      "-61 [2, 2, 173, 52009, 1780817] False\n",
      "-61 [2, 2, 173, 1103, 82928767] True\n",
      "-384 [2, 2, 2, 2, 2, 31, 52479707921] True\n",
      "38 [2, 37, 5737, 112042493] False\n",
      "38 [2, 37, 313, 373, 1199117] False\n",
      "9 [5, 103, 45403, 1142233] True\n",
      "46 [2, 3, 11, 11, 269, 5736079] True\n",
      "92 [2, 2, 5, 131, 913696009] True\n",
      "92 [2, 2, 2, 2, 2, 3, 5, 151, 154180919] True\n",
      "208 [2, 2, 2, 2, 2, 3, 7, 571, 7890343] False\n",
      "92 [2, 2, 5, 117883, 3724519] True\n",
      "70 [2, 3, 3, 3, 7, 7, 193, 18438613] True\n",
      "75 [37, 353, 7459, 7523] True\n",
      "75 [37, 37, 41, 47, 197, 19697] True\n",
      "-155 [2, 3, 11, 11, 89, 2851091] True\n",
      "42 [2, 5, 7, 122776431311] True\n",
      "277 [3, 5, 11, 17, 103, 216964529] True\n",
      "277 [3, 5, 5, 11, 257, 677, 1033343] True\n",
      "210 [2, 2, 7, 7, 41, 523, 6546857] False\n",
      "38 [2, 2, 2, 3, 37, 143573, 291833] True\n",
      "75 [2, 3, 3, 3, 3, 3, 5, 11, 17, 37, 565247] True\n",
      "-61 [2, 2, 2, 173, 92044470677] True\n",
      "218 [2, 3, 7, 53, 197, 42555427] True\n",
      "-32 [2, 2, 2, 2, 2, 3, 3, 3, 3, 19, 1387611163] True\n",
      "-32 [2, 2, 2, 2, 3, 3, 23, 223, 281, 14071] True\n",
      "55 [2, 2, 2, 3, 19, 457, 206093287] True\n",
      "-29 [3, 13, 47, 84691, 131213] True\n",
      "-143 [3, 3, 5, 17, 509, 472287547] False\n",
      "277 [2, 2, 2, 2, 2, 3, 3, 3, 3, 3, 3, 5, 11, 19, 3513149] True\n",
      "-32 [2, 2, 2, 2, 3, 3, 167, 2720258701] False\n",
      "19 [2, 3, 3, 3, 5, 7, 31, 863, 197147] True\n"
     ]
    }
   ],
   "source": [
    "i = 2\n",
    "for hail in range(len(pos) - 1):\n",
    "    for hail2 in range(hail, len(pos)):\n",
    "        if vel[hail][i] == vel[hail2][i]:\n",
    "            p1 = pos[hail][i]\n",
    "            p2 = pos[hail2][i]\n",
    "            flip = False\n",
    "            if p2 < p1:\n",
    "                temp = p2\n",
    "                p2 = p1\n",
    "                p1 = temp\n",
    "                flip = True\n",
    "            if p2-p1:\n",
    "                pf = prime_factors(p2 - p1)\n",
    "                print(vel[hail][i], pf, flip)\n",
    "        "
   ]
  },
  {
   "cell_type": "code",
   "execution_count": 124,
   "id": "73986d13-7575-4877-ad65-70b3a81b8141",
   "metadata": {},
   "outputs": [
    {
     "data": {
      "text/plain": [
       "112"
      ]
     },
     "execution_count": 124,
     "metadata": {},
     "output_type": "execute_result"
    }
   ],
   "source": [
    "37 + 75"
   ]
  },
  {
   "cell_type": "code",
   "execution_count": 132,
   "id": "9ca3a747-a5ac-4dd2-b2a2-17b3511f566f",
   "metadata": {},
   "outputs": [
    {
     "data": {
      "text/plain": [
       "112"
      ]
     },
     "execution_count": 132,
     "metadata": {},
     "output_type": "execute_result"
    }
   ],
   "source": [
    "-143 + 3*5*17"
   ]
  },
  {
   "cell_type": "code",
   "execution_count": 97,
   "id": "21de1072-cfd7-4c1e-b239-852293756efc",
   "metadata": {},
   "outputs": [
    {
     "data": {
      "text/plain": [
       "164"
      ]
     },
     "execution_count": 97,
     "metadata": {},
     "output_type": "execute_result"
    }
   ],
   "source": [
    "# Y VEL\n",
    "# 50, 2,5,23,31\n",
    "# 51, 2,3,7,11,31\n",
    "\n",
    "# 31 [113, 193, 211, 11706661]\n",
    "# 46 [2, 11, 113, 58748590877]\n",
    "# 37 ?\n",
    "\n",
    "# X VEL\n",
    "#16, 193\n",
    "#45, 4*41 = 164, "
   ]
  },
  {
   "cell_type": "code",
   "execution_count": 105,
   "id": "bbda27a6-27cd-41df-8005-712d28a299c5",
   "metadata": {},
   "outputs": [
    {
     "data": {
      "text/plain": [
       "223"
      ]
     },
     "execution_count": 105,
     "metadata": {},
     "output_type": "execute_result"
    }
   ],
   "source": [
    "31*7 + 6"
   ]
  },
  {
   "cell_type": "code",
   "execution_count": null,
   "id": "f7ce6cc6-9aa3-4b27-919a-e148e9f1c376",
   "metadata": {},
   "outputs": [],
   "source": [
    "# vx = 209\n",
    "# vy = -180\n",
    "# vz = 112"
   ]
  },
  {
   "cell_type": "code",
   "execution_count": 84,
   "id": "d53ac63a-a432-4f29-8f43-40ca0a9ea6cb",
   "metadata": {},
   "outputs": [],
   "source": [
    "def prime_factors(n):\n",
    "    i = 2\n",
    "    factors = []\n",
    "    while i * i <= n:\n",
    "        if n % i:\n",
    "            i += 1\n",
    "        else:\n",
    "            n //= i\n",
    "            factors.append(i)\n",
    "    if n > 1:\n",
    "        factors.append(n)\n",
    "    return factors"
   ]
  },
  {
   "cell_type": "code",
   "execution_count": 149,
   "id": "42034c4b-e96d-44f0-8d34-c001b21b4dae",
   "metadata": {},
   "outputs": [],
   "source": [
    "# I HATE THIS ONE\n",
    "\n",
    "import numpy as np\n",
    "import sympy\n",
    "\n",
    "def day24_part2(s):\n",
    "  array = np.array([line.replace('@', ',').split(',')\n",
    "                    for line in s.splitlines()], dtype=np.int64)  \n",
    "  p, v, t = (sympy.symbols(f'{ch}(:3)') for ch in 'pvt')\n",
    "  equations = [\n",
    "      array[i, j] + t[i] * array[i, 3 + j] - p[j] - v[j] * t[i]\n",
    "      for i in range(3) for j in range(3)\n",
    "  ]\n",
    "  return sum(sympy.solve(equations, (*p, *v, *t))[0][:3])"
   ]
  }
 ],
 "metadata": {
  "kernelspec": {
   "display_name": "Python 3 (ipykernel)",
   "language": "python",
   "name": "python3"
  },
  "language_info": {
   "codemirror_mode": {
    "name": "ipython",
    "version": 3
   },
   "file_extension": ".py",
   "mimetype": "text/x-python",
   "name": "python",
   "nbconvert_exporter": "python",
   "pygments_lexer": "ipython3",
   "version": "3.9.13"
  }
 },
 "nbformat": 4,
 "nbformat_minor": 5
}
