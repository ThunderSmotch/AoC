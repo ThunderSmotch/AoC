{
 "cells": [
  {
   "cell_type": "markdown",
   "id": "fd82a746",
   "metadata": {},
   "source": [
    "## --- Day 1: Trebuchet?! ---\n",
    "\n",
    "Something is wrong with global snow production, and you've been selected to take a look. The Elves have even given you a map; on it, they've used stars to mark the top fifty locations that are likely to be having problems.\n",
    "\n",
    "You've been doing this long enough to know that to restore snow operations, you need to check all fifty stars by December 25th.\n",
    "\n",
    "Collect stars by solving puzzles. Two puzzles will be made available on each day in the Advent calendar; the second puzzle is unlocked when you complete the first. Each puzzle grants one star. Good luck!\n",
    "\n",
    "You try to ask why they can't just use a weather machine (\"not powerful enough\") and where they're even sending you (\"the sky\") and why your map looks mostly blank (\"you sure ask a lot of questions\") and hang on did you just say the sky (\"of course, where do you think snow comes from\") when you realize that the Elves are already loading you into a trebuchet (\"please hold still, we need to strap you in\").\n",
    "\n",
    "As they're making the final adjustments, they discover that their calibration document (your puzzle input) has been amended by a very young Elf who was apparently just excited to show off her art skills. Consequently, the Elves are having trouble reading the values on the document.\n",
    "\n",
    "The newly-improved calibration document consists of lines of text; each line originally contained a specific calibration value that the Elves now need to recover. On each line, the calibration value can be found by combining the first digit and the last digit (in that order) to form a single two-digit number.\n",
    "\n",
    "For example:\n",
    "```\n",
    "1abc2\n",
    "pqr3stu8vwx\n",
    "a1b2c3d4e5f\n",
    "treb7uchet\n",
    "```\n",
    "\n",
    "In this example, the calibration values of these four lines are 12, 38, 15, and 77. Adding these together produces 142.\n",
    "\n",
    "Consider your entire calibration document. What is the sum of all of the calibration values?\n"
   ]
  },
  {
   "cell_type": "code",
   "execution_count": 12,
   "id": "db2fa4c8",
   "metadata": {},
   "outputs": [
    {
     "data": {
      "text/plain": [
       "56397"
      ]
     },
     "execution_count": 12,
     "metadata": {},
     "output_type": "execute_result"
    }
   ],
   "source": [
    "f = open(\"input.txt\", \"r\")\n",
    "\n",
    "total = 0\n",
    "for line in f:\n",
    "    digits = [d for d in line if d.isdigit()]\n",
    "    number = digits[0] + digits[-1]\n",
    "    total += int(number)\n",
    "total"
   ]
  },
  {
   "cell_type": "markdown",
   "id": "224d7c5e",
   "metadata": {},
   "source": [
    "## --- Part Two ---\n",
    "\n",
    "Your calculation isn't quite right. It looks like some of the digits are actually spelled out with letters: one, two, three, four, five, six, seven, eight, and nine also count as valid \"digits\".\n",
    "\n",
    "Equipped with this new information, you now need to find the real first and last digit on each line. For example:\n",
    "```\n",
    "two1nine\n",
    "eightwothree\n",
    "abcone2threexyz\n",
    "xtwone3four\n",
    "4nineeightseven2\n",
    "zoneight234\n",
    "7pqrstsixteen\n",
    "```\n",
    "In this example, the calibration values are 29, 83, 13, 24, 42, 14, and 76. Adding these together produces 281.\n",
    "\n",
    "What is the sum of all of the calibration values?\n",
    "\n"
   ]
  },
  {
   "cell_type": "code",
   "execution_count": 110,
   "id": "527c2b8f",
   "metadata": {},
   "outputs": [],
   "source": [
    "def decode_line(line):\n",
    "    # Numeric value of the thing found\n",
    "    min_val = -1\n",
    "    max_val = -1\n",
    "\n",
    "    # Index of thing found\n",
    "    min_idx = 9999999\n",
    "    max_idx = -1\n",
    "    \n",
    "    val = 0\n",
    "    for first_index, last_index in map(lambda x: (line.find(x), line.rfind(x)), mappings):\n",
    "        if first_index != -1:\n",
    "            if first_index < min_idx:\n",
    "                min_idx = first_index\n",
    "                min_val = val\n",
    "            if last_index > max_idx:\n",
    "                max_idx = last_index\n",
    "                max_val = val\n",
    "        val += 1\n",
    "    return 10*(min_val//2 + 1) + (max_val//2 + 1)"
   ]
  },
  {
   "cell_type": "code",
   "execution_count": 109,
   "id": "2e1eb3dd",
   "metadata": {},
   "outputs": [
    {
     "data": {
      "text/plain": [
       "55701"
      ]
     },
     "execution_count": 109,
     "metadata": {},
     "output_type": "execute_result"
    }
   ],
   "source": [
    "f = open(\"input.txt\", \"r\")\n",
    "\n",
    "mappings = [\n",
    "    \"one\",\"1\", \n",
    "    \"two\",\"2\",\n",
    "    \"three\",\"3\",\n",
    "    \"four\",\"4\",\n",
    "    \"five\",\"5\",\n",
    "    \"six\",\"6\",\n",
    "    \"seven\",\"7\",\n",
    "    \"eight\",\"8\",\n",
    "    \"nine\",\"9\"\n",
    "]\n",
    "\n",
    "total = 0\n",
    "for line in f:\n",
    "    total += decode_line(line)\n",
    "total"
   ]
  }
 ],
 "metadata": {
  "kernelspec": {
   "display_name": "Python 3 (ipykernel)",
   "language": "python",
   "name": "python3"
  },
  "language_info": {
   "codemirror_mode": {
    "name": "ipython",
    "version": 3
   },
   "file_extension": ".py",
   "mimetype": "text/x-python",
   "name": "python",
   "nbconvert_exporter": "python",
   "pygments_lexer": "ipython3",
   "version": "3.9.17"
  }
 },
 "nbformat": 4,
 "nbformat_minor": 5
}
