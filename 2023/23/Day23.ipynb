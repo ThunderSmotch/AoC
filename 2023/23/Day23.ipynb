{
 "cells": [
  {
   "cell_type": "markdown",
   "id": "0112beb8-2f52-49e1-b9fc-d3e31674bbd5",
   "metadata": {},
   "source": [
    "### --- Day 23: A Long Walk ---\n",
    "\n",
    "The Elves resume water filtering operations! Clean water starts flowing over the edge of Island Island.\n",
    "\n",
    "They offer to help you go over the edge of Island Island, too! Just hold on tight to one end of this impossibly long rope and they'll lower you down a safe distance from the massive waterfall you just created.\n",
    "\n",
    "As you finally reach Snow Island, you see that the water isn't really reaching the ground: it's being absorbed by the air itself. It looks like you'll finally have a little downtime while the moisture builds up to snow-producing levels. Snow Island is pretty scenic, even without any snow; why not take a walk?\n",
    "\n",
    "There's a map of nearby hiking trails (your puzzle input) that indicates paths (.), forest (#), and steep slopes (^, >, v, and <).\n",
    "\n",
    "For example:\n",
    "```\n",
    "#.#####################\n",
    "#.......#########...###\n",
    "#######.#########.#.###\n",
    "###.....#.>.>.###.#.###\n",
    "###v#####.#v#.###.#.###\n",
    "###.>...#.#.#.....#...#\n",
    "###v###.#.#.#########.#\n",
    "###...#.#.#.......#...#\n",
    "#####.#.#.#######.#.###\n",
    "#.....#.#.#.......#...#\n",
    "#.#####.#.#.#########v#\n",
    "#.#...#...#...###...>.#\n",
    "#.#.#v#######v###.###v#\n",
    "#...#.>.#...>.>.#.###.#\n",
    "#####v#.#.###v#.#.###.#\n",
    "#.....#...#...#.#.#...#\n",
    "#.#########.###.#.#.###\n",
    "#...###...#...#...#.###\n",
    "###.###.#.###v#####v###\n",
    "#...#...#.#.>.>.#.>.###\n",
    "#.###.###.#.###.#.#v###\n",
    "#.....###...###...#...#\n",
    "#####################.#\n",
    "```\n",
    "You're currently on the single path tile in the top row; your goal is to reach the single path tile in the bottom row. Because of all the mist from the waterfall, the slopes are probably quite icy; if you step onto a slope tile, your next step must be downhill (in the direction the arrow is pointing). To make sure you have the most scenic hike possible, never step onto the same tile twice. What is the longest hike you can take?\n",
    "\n",
    "In the example above, the longest hike you can take is marked with O, and your starting position is marked S:\n",
    "```\n",
    "#S#####################\n",
    "#OOOOOOO#########...###\n",
    "#######O#########.#.###\n",
    "###OOOOO#OOO>.###.#.###\n",
    "###O#####O#O#.###.#.###\n",
    "###OOOOO#O#O#.....#...#\n",
    "###v###O#O#O#########.#\n",
    "###...#O#O#OOOOOOO#...#\n",
    "#####.#O#O#######O#.###\n",
    "#.....#O#O#OOOOOOO#...#\n",
    "#.#####O#O#O#########v#\n",
    "#.#...#OOO#OOO###OOOOO#\n",
    "#.#.#v#######O###O###O#\n",
    "#...#.>.#...>OOO#O###O#\n",
    "#####v#.#.###v#O#O###O#\n",
    "#.....#...#...#O#O#OOO#\n",
    "#.#########.###O#O#O###\n",
    "#...###...#...#OOO#O###\n",
    "###.###.#.###v#####O###\n",
    "#...#...#.#.>.>.#.>O###\n",
    "#.###.###.#.###.#.#O###\n",
    "#.....###...###...#OOO#\n",
    "#####################O#\n",
    "```\n",
    "This hike contains 94 steps. (The other possible hikes you could have taken were 90, 86, 82, 82, and 74 steps long.)\n",
    "\n",
    "Find the longest hike you can take through the hiking trails listed on your map. How many steps long is the longest hike?"
   ]
  },
  {
   "cell_type": "code",
   "execution_count": 38,
   "id": "601615dc-44fe-4862-a39c-2110ddab1b74",
   "metadata": {},
   "outputs": [
    {
     "name": "stdout",
     "output_type": "stream",
     "text": [
      "CPU times: total: 0 ns\n",
      "Wall time: 4 ms\n"
     ]
    },
    {
     "data": {
      "text/plain": [
       "94"
      ]
     },
     "execution_count": 38,
     "metadata": {},
     "output_type": "execute_result"
    }
   ],
   "source": [
    "%%time\n",
    "grid = []\n",
    "\n",
    "for line in open(\"test.txt\"):\n",
    "    line = line.strip()\n",
    "    grid.append([c for c in line])\n",
    "start = (0, 1)\n",
    "goal = (len(grid)-1 , len(grid) - 2)\n",
    "\n",
    "queue = [(start, set(start))]\n",
    "\n",
    "slope = {\"v\": (1, 0), \"^\": (-1,0), \"<\":(0, -1), \">\": (0, 1)}\n",
    "\n",
    "final_path_lengths = []\n",
    "\n",
    "while len(queue) > 0:\n",
    "    current, path = queue.pop()\n",
    "    walked = 0\n",
    "\n",
    "    for dir in [(1, 0), (-1, 0), (0, 1), (0, -1)]:\n",
    "        new_path = path.copy()\n",
    "        \n",
    "        next_tile = (dir[0] + current[0], dir[1] + current[1])\n",
    "        if next_tile[0] < 0 or next_tile[0] >= len(grid) or next_tile[1] < 0 or next_tile[1] >= len(grid[0]):\n",
    "            continue\n",
    "       \n",
    "        next_tile_type = grid[next_tile[0]][next_tile[1]]\n",
    "        if next_tile_type == \"#\" or next_tile in path:\n",
    "            continue\n",
    "        \n",
    "        new_path.add(next_tile)\n",
    "        \n",
    "        if next_tile_type in \"><v^\":\n",
    "            offset = slope[next_tile_type]\n",
    "            next_tile = (next_tile[0] + offset[0], next_tile[1] + offset[1])\n",
    "            if next_tile in new_path:\n",
    "                continue\n",
    "            new_path.add(next_tile)\n",
    "        \n",
    "        walked += 1\n",
    "        queue.append((next_tile, new_path))\n",
    "\n",
    "    if current == goal:\n",
    "        final_path_lengths.append(len(path))\n",
    "\n",
    "max(final_path_lengths) - 2"
   ]
  },
  {
   "cell_type": "markdown",
   "id": "f24f4989-2636-4b3e-8504-599d6a596e2b",
   "metadata": {},
   "source": [
    "### --- Part Two ---\n",
    "\n",
    "As you reach the trailhead, you realize that the ground isn't as slippery as you expected; you'll have no problem climbing up the steep slopes.\n",
    "\n",
    "Now, treat all slopes as if they were normal paths (.). You still want to make sure you have the most scenic hike possible, so continue to ensure that you never step onto the same tile twice. What is the longest hike you can take?\n",
    "\n",
    "In the example above, this increases the longest hike to 154 steps:\n",
    "```\n",
    "#S#####################\n",
    "#OOOOOOO#########OOO###\n",
    "#######O#########O#O###\n",
    "###OOOOO#.>OOO###O#O###\n",
    "###O#####.#O#O###O#O###\n",
    "###O>...#.#O#OOOOO#OOO#\n",
    "###O###.#.#O#########O#\n",
    "###OOO#.#.#OOOOOOO#OOO#\n",
    "#####O#.#.#######O#O###\n",
    "#OOOOO#.#.#OOOOOOO#OOO#\n",
    "#O#####.#.#O#########O#\n",
    "#O#OOO#...#OOO###...>O#\n",
    "#O#O#O#######O###.###O#\n",
    "#OOO#O>.#...>O>.#.###O#\n",
    "#####O#.#.###O#.#.###O#\n",
    "#OOOOO#...#OOO#.#.#OOO#\n",
    "#O#########O###.#.#O###\n",
    "#OOO###OOO#OOO#...#O###\n",
    "###O###O#O###O#####O###\n",
    "#OOO#OOO#O#OOO>.#.>O###\n",
    "#O###O###O#O###.#.#O###\n",
    "#OOOOO###OOO###...#OOO#\n",
    "#####################O#\n",
    "```\n",
    "Find the longest hike you can take through the surprisingly dry hiking trails listed on your map. How many steps long is the longest hike?"
   ]
  },
  {
   "cell_type": "code",
   "execution_count": 68,
   "id": "1559c38d-3c8f-43e9-a19c-36352c946252",
   "metadata": {
    "scrolled": true
   },
   "outputs": [
    {
     "name": "stdout",
     "output_type": "stream",
     "text": [
      "CPU times: total: 0 ns\n",
      "Wall time: 2 ms\n"
     ]
    }
   ],
   "source": [
    "%%time\n",
    "grid = []\n",
    "\n",
    "for line in open(\"input.txt\"):\n",
    "    line = line.strip()\n",
    "    grid.append([c for c in line])\n",
    "start = (0, 1)\n",
    "goal = (len(grid)-1 , len(grid) - 2)"
   ]
  },
  {
   "cell_type": "code",
   "execution_count": 69,
   "id": "41410b33-1d2d-4278-b51a-969d032f36ea",
   "metadata": {},
   "outputs": [],
   "source": [
    "def get_valid_neighbours(tile):\n",
    "    neighbours = []\n",
    "    for dir in [(1, 0), (-1, 0), (0, 1), (0, -1)]:\n",
    "        next_tile = (tile[0] + dir[0], tile[1] + dir[1])\n",
    "        if next_tile[0] < 0 or next_tile[0] >= len(grid) or next_tile[1] < 0 or next_tile[1] >= len(grid[0]):\n",
    "            continue\n",
    "        if grid[next_tile[0]][next_tile[1]] != \"#\":\n",
    "            neighbours.append(next_tile)\n",
    "    return neighbours"
   ]
  },
  {
   "cell_type": "code",
   "execution_count": 70,
   "id": "a30769ec-51f0-4342-86af-6120f5f9167d",
   "metadata": {},
   "outputs": [
    {
     "name": "stdout",
     "output_type": "stream",
     "text": [
      "Found dead end!  (0, 1)\n"
     ]
    }
   ],
   "source": [
    "graph = {}\n",
    "\n",
    "processed = set()\n",
    "to_process = [start]\n",
    "\n",
    "while len(to_process) > 0:\n",
    "    node = to_process.pop(0)\n",
    "    \n",
    "    branches = get_valid_neighbours(node)\n",
    "    for branch in branches:\n",
    "        prev = node\n",
    "        current = branch\n",
    "        distance = 1\n",
    "\n",
    "        while True:\n",
    "            neighbours = get_valid_neighbours(current)\n",
    "            neighbours.remove(prev)\n",
    "\n",
    "            if len(neighbours) == 1:\n",
    "                prev = current\n",
    "                current = neighbours[0]\n",
    "                distance += 1\n",
    "                continue\n",
    "            # Found node\n",
    "            if len(neighbours) == 0 and current != goal:\n",
    "                print(\"Found dead end! \", current)\n",
    "                break\n",
    "            \n",
    "            if node not in graph:\n",
    "                graph[node] = {}\n",
    "            if current not in graph:\n",
    "                graph[current] = {}\n",
    "            graph[node][current] = distance\n",
    "            graph[current][node] = distance\n",
    "            if current not in processed and current not in to_process:\n",
    "                to_process.append(current)\n",
    "            break\n",
    "    processed.add(node)"
   ]
  },
  {
   "cell_type": "code",
   "execution_count": 71,
   "id": "54241aa5-db73-47a2-a663-b1d675e7f196",
   "metadata": {},
   "outputs": [
    {
     "name": "stdout",
     "output_type": "stream",
     "text": [
      "2218\n",
      "2502\n",
      "3662\n",
      "4058\n",
      "4950\n",
      "5298\n",
      "5362\n",
      "5562\n",
      "5706\n",
      "5770\n",
      "5906\n",
      "5910\n",
      "6066\n",
      "6214\n",
      "6330\n",
      "6334\n",
      "6390\n",
      "6538\n",
      "6566\n",
      "6602\n",
      "6674\n"
     ]
    },
    {
     "data": {
      "text/plain": [
       "6674"
      ]
     },
     "execution_count": 71,
     "metadata": {},
     "output_type": "execute_result"
    }
   ],
   "source": [
    "queue = [(start, set({start}), 0)]\n",
    "max_length = 0\n",
    "while len(queue) > 0:\n",
    "    current, path, length = queue.pop()\n",
    "    if current == goal:\n",
    "        if length > max_length:\n",
    "            max_length = length\n",
    "            print(max_length)\n",
    "    \n",
    "    for neigh in graph[current]:\n",
    "        if neigh in path:\n",
    "            continue\n",
    "        new_path = path.copy()\n",
    "        new_path.add(neigh)\n",
    "        queue.append( (neigh, new_path, length + graph[current][neigh]) )        \n",
    "max_length"
   ]
  }
 ],
 "metadata": {
  "kernelspec": {
   "display_name": "Python 3 (ipykernel)",
   "language": "python",
   "name": "python3"
  },
  "language_info": {
   "codemirror_mode": {
    "name": "ipython",
    "version": 3
   },
   "file_extension": ".py",
   "mimetype": "text/x-python",
   "name": "python",
   "nbconvert_exporter": "python",
   "pygments_lexer": "ipython3",
   "version": "3.9.13"
  }
 },
 "nbformat": 4,
 "nbformat_minor": 5
}
