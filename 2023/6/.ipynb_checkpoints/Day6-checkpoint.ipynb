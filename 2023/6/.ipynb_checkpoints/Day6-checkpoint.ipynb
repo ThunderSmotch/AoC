{
 "cells": [
  {
   "cell_type": "markdown",
   "id": "10b76a96",
   "metadata": {},
   "source": [
    "### --- Day 6: Wait For It ---\n",
    "\n",
    "The ferry quickly brings you across Island Island. After asking around, you discover that there is indeed normally a large pile of sand somewhere near here, but you don't see anything besides lots of water and the small island where the ferry has docked.\n",
    "\n",
    "As you try to figure out what to do next, you notice a poster on a wall near the ferry dock. \"Boat races! Open to the public! Grand prize is an all-expenses-paid trip to Desert Island!\" That must be where the sand comes from! Best of all, the boat races are starting in just a few minutes.\n",
    "\n",
    "You manage to sign up as a competitor in the boat races just in time. The organizer explains that it's not really a traditional race - instead, you will get a fixed amount of time during which your boat has to travel as far as it can, and you win if your boat goes the farthest.\n",
    "\n",
    "As part of signing up, you get a sheet of paper (your puzzle input) that lists the time allowed for each race and also the best distance ever recorded in that race. To guarantee you win the grand prize, you need to make sure you go farther in each race than the current record holder.\n",
    "\n",
    "The organizer brings you over to the area where the boat races are held. The boats are much smaller than you expected - they're actually toy boats, each with a big button on top. Holding down the button charges the boat, and releasing the button allows the boat to move. Boats move faster if their button was held longer, but time spent holding the button counts against the total race time. You can only hold the button at the start of the race, and boats don't move until the button is released.\n",
    "\n",
    "For example:\n",
    "```\n",
    "Time:      7  15   30\n",
    "Distance:  9  40  200\n",
    "```\n",
    "This document describes three races:\n",
    "\n",
    " -   The first race lasts 7 milliseconds. The record distance in this race is 9 millimeters.\n",
    " -   The second race lasts 15 milliseconds. The record distance in this race is 40 millimeters.\n",
    " -   The third race lasts 30 milliseconds. The record distance in this race is 200 millimeters.\n",
    "\n",
    "Your toy boat has a starting speed of zero millimeters per millisecond. For each whole millisecond you spend at the beginning of the race holding down the button, the boat's speed increases by one millimeter per millisecond.\n",
    "\n",
    "So, because the first race lasts 7 milliseconds, you only have a few options:\n",
    "\n",
    " -   Don't hold the button at all (that is, hold it for 0 milliseconds) at the start of the race. The boat won't move; it will have traveled 0 millimeters by the end of the race.\n",
    " -   Hold the button for 1 millisecond at the start of the race. Then, the boat will travel at a speed of 1 millimeter per millisecond for 6 milliseconds, reaching a total distance traveled of 6 millimeters.\n",
    " -   Hold the button for 2 milliseconds, giving the boat a speed of 2 millimeters per millisecond. It will then get 5 milliseconds to move, reaching a total distance of 10 millimeters.\n",
    " -  Hold the button for 3 milliseconds. After its remaining 4 milliseconds of travel time, the boat will have gone 12 millimeters.\n",
    " -   Hold the button for 4 milliseconds. After its remaining 3 milliseconds of travel time, the boat will have gone 12 millimeters.\n",
    " -   Hold the button for 5 milliseconds, causing the boat to travel a total of 10 millimeters.\n",
    " -   Hold the button for 6 milliseconds, causing the boat to travel a total of 6 millimeters.\n",
    " -   Hold the button for 7 milliseconds. That's the entire duration of the race. You never let go of the button. The boat can't move until you let go of the button. Please make sure you let go of the button so the boat gets to move. 0 millimeters.\n",
    "\n",
    "Since the current record for this race is 9 millimeters, there are actually 4 different ways you could win: you could hold the button for 2, 3, 4, or 5 milliseconds at the start of the race.\n",
    "\n",
    "In the second race, you could hold the button for at least 4 milliseconds and at most 11 milliseconds and beat the record, a total of 8 different ways to win.\n",
    "\n",
    "In the third race, you could hold the button for at least 11 milliseconds and no more than 19 milliseconds and still beat the record, a total of 9 ways you could win.\n",
    "\n",
    "To see how much margin of error you have, determine the number of ways you can beat the record in each race; in this example, if you multiply these values together, you get 288 (4 * 8 * 9).\n",
    "\n",
    "Determine the number of ways you could beat the record in each race. What do you get if you multiply these numbers together?\n"
   ]
  },
  {
   "cell_type": "code",
   "execution_count": 19,
   "id": "ece7b5aa",
   "metadata": {},
   "outputs": [
    {
     "name": "stdout",
     "output_type": "stream",
     "text": [
      "7\n",
      "9\n",
      "Chargetime: 1\n",
      "Distance: 6\n",
      "Chargetime: 2\n",
      "Distance: 10\n",
      "Chargetime: 3\n",
      "Distance: 12\n",
      "Chargetime: 4\n",
      "Distance: 12\n",
      "Chargetime: 5\n",
      "Distance: 10\n",
      "Chargetime: 6\n",
      "Distance: 6\n",
      "15\n"
     ]
    },
    {
     "ename": "TypeError",
     "evalue": "'int' object is not subscriptable",
     "output_type": "error",
     "traceback": [
      "\u001b[1;31m---------------------------------------------------------------------------\u001b[0m",
      "\u001b[1;31mTypeError\u001b[0m                                 Traceback (most recent call last)",
      "Cell \u001b[1;32mIn[19], line 17\u001b[0m\n\u001b[0;32m     15\u001b[0m \u001b[38;5;28;01mfor\u001b[39;00m race \u001b[38;5;129;01min\u001b[39;00m \u001b[38;5;28mrange\u001b[39m(\u001b[38;5;28mlen\u001b[39m(time)):\n\u001b[0;32m     16\u001b[0m     \u001b[38;5;28mprint\u001b[39m(time[race])\n\u001b[1;32m---> 17\u001b[0m     \u001b[38;5;28mprint\u001b[39m(\u001b[43mdistance\u001b[49m\u001b[43m[\u001b[49m\u001b[43mrace\u001b[49m\u001b[43m]\u001b[49m)\n\u001b[0;32m     19\u001b[0m     \u001b[38;5;28;01mfor\u001b[39;00m chargetime \u001b[38;5;129;01min\u001b[39;00m \u001b[38;5;28mrange\u001b[39m(\u001b[38;5;241m1\u001b[39m, time[race]):\n\u001b[0;32m     20\u001b[0m         \u001b[38;5;28mprint\u001b[39m(\u001b[38;5;124m\"\u001b[39m\u001b[38;5;124mChargetime:\u001b[39m\u001b[38;5;124m\"\u001b[39m, chargetime)\n",
      "\u001b[1;31mTypeError\u001b[0m: 'int' object is not subscriptable"
     ]
    }
   ],
   "source": [
    "f = open(\"test.txt\", \"r\")\n",
    "\n",
    "time = []\n",
    "distance = []\n",
    "\n",
    "inputed = False\n",
    "for line in f:\n",
    "    if line.find(\": \"):\n",
    "        if not inputed:\n",
    "            inputed = True\n",
    "            time = [int(number) for number in line[line.find(\":\") + 1:].split()]\n",
    "        else:\n",
    "            distance = [int(number) for number in line[line.find(\":\") + 1:].split()]\n",
    "\n",
    "ways = 1\n",
    "            \n",
    "for race in range(len(time)):\n",
    "    print(time[race])\n",
    "    print(distance[race])\n",
    "    \n",
    "    start_time = 0\n",
    "    end_time = 0\n",
    "    \n",
    "    for chargetime in range(1, time[race]):\n",
    "        print(\"Chargetime:\", chargetime)\n",
    "        distance = chargetime * (time[race] - chargetime)\n",
    "        \n",
    "        if distance >= distance[race] and start_time == 0:\n",
    "            start_time = chargetime\n",
    "        \n",
    "        if distance < distance[race] and start_time != 0:\n",
    "            end_time = chargetime\n",
    "        \n",
    "        print(\"Distance:\", distance)\n",
    "    \n",
    "    print(start_time)\n",
    "    print(end_time)\n",
    "    \n",
    "time\n",
    "distance"
   ]
  },
  {
   "cell_type": "markdown",
   "id": "1b864d3c",
   "metadata": {},
   "source": [
    "### Part 2"
   ]
  },
  {
   "cell_type": "code",
   "execution_count": null,
   "id": "0eb71660",
   "metadata": {},
   "outputs": [],
   "source": [
    "f = open(\"test.txt\", \"r\")\n",
    "\n",
    "total = 0\n",
    "for line in f:\n",
    "    print(line)\n",
    "total"
   ]
  }
 ],
 "metadata": {
  "kernelspec": {
   "display_name": "Python 3 (ipykernel)",
   "language": "python",
   "name": "python3"
  },
  "language_info": {
   "codemirror_mode": {
    "name": "ipython",
    "version": 3
   },
   "file_extension": ".py",
   "mimetype": "text/x-python",
   "name": "python",
   "nbconvert_exporter": "python",
   "pygments_lexer": "ipython3",
   "version": "3.9.17"
  }
 },
 "nbformat": 4,
 "nbformat_minor": 5
}
