{
 "cells": [
  {
   "cell_type": "markdown",
   "id": "75efa4d4",
   "metadata": {},
   "source": [
    "## --- Day 18: Boiling Boulders ---\n",
    "\n",
    "You and the elephants finally reach fresh air. You've emerged near the base of a large volcano that seems to be actively erupting! Fortunately, the lava seems to be flowing away from you and toward the ocean.\n",
    "\n",
    "Bits of lava are still being ejected toward you, so you're sheltering in the cavern exit a little longer. Outside the cave, you can see the lava landing in a pond and hear it loudly hissing as it solidifies.\n",
    "\n",
    "Depending on the specific compounds in the lava and speed at which it cools, it might be forming obsidian! The cooling rate should be based on the surface area of the lava droplets, so you take a quick scan of a droplet as it flies past you (your puzzle input).\n",
    "\n",
    "Because of how quickly the lava is moving, the scan isn't very good; its resolution is quite low and, as a result, it approximates the shape of the lava droplet with 1x1x1 cubes on a 3D grid, each given as its x,y,z position.\n",
    "\n",
    "To approximate the surface area, count the number of sides of each cube that are not immediately connected to another cube. So, if your scan were only two adjacent cubes like 1,1,1 and 2,1,1, each cube would have a single side covered and five sides exposed, a total surface area of 10 sides.\n",
    "\n",
    "Here's a larger example:\n",
    "```\n",
    "2,2,2\n",
    "1,2,2\n",
    "3,2,2\n",
    "2,1,2\n",
    "2,3,2\n",
    "2,2,1\n",
    "2,2,3\n",
    "2,2,4\n",
    "2,2,6\n",
    "1,2,5\n",
    "3,2,5\n",
    "2,1,5\n",
    "2,3,5\n",
    "```\n",
    "In the above example, after counting up all the sides that aren't connected to another cube, the total surface area is 64.\n",
    "\n",
    "What is the surface area of your scanned lava droplet?\n"
   ]
  },
  {
   "cell_type": "code",
   "execution_count": 45,
   "id": "e31e7b3f",
   "metadata": {},
   "outputs": [
    {
     "data": {
      "text/plain": [
       "4322"
      ]
     },
     "execution_count": 45,
     "metadata": {},
     "output_type": "execute_result"
    }
   ],
   "source": [
    "f = open(\"input.txt\", \"r\")\n",
    "lines = f.read().splitlines()\n",
    "\n",
    "cubes = []\n",
    "\n",
    "for line in lines:\n",
    "    words = line.split(\",\")\n",
    "    cubes.append( ( int(words[0]), int(words[1]), int(words[2]) ) )    \n",
    "    \n",
    "total_area = 0\n",
    "for cube in cubes:\n",
    "    x, y, z = cube\n",
    "    \n",
    "    neighbors = [(x + 1, y, z), (x - 1, y, z), (x, y + 1, z), (x, y - 1, z), (x, y, z + 1), (x, y, z - 1)]\n",
    "    \n",
    "    total_area += 6\n",
    "    for neigh in neighbors:\n",
    "        if neigh in cubes:\n",
    "            total_area -= 1\n",
    "    \n",
    "total_area"
   ]
  },
  {
   "cell_type": "markdown",
   "id": "4736cab6",
   "metadata": {},
   "source": [
    "## --- Part Two ---\n",
    "\n",
    "Something seems off about your calculation. The cooling rate depends on exterior surface area, but your calculation also included the surface area of air pockets trapped in the lava droplet.\n",
    "\n",
    "Instead, consider only cube sides that could be reached by the water and steam as the lava droplet tumbles into the pond. The steam will expand to reach as much as possible, completely displacing any air on the outside of the lava droplet but never expanding diagonally.\n",
    "\n",
    "In the larger example above, exactly one cube of air is trapped within the lava droplet (at 2,2,5), so the exterior surface area of the lava droplet is 58.\n",
    "\n",
    "What is the exterior surface area of your scanned lava droplet?\n"
   ]
  },
  {
   "cell_type": "code",
   "execution_count": 59,
   "id": "8307594d",
   "metadata": {},
   "outputs": [],
   "source": [
    "import numpy as np\n",
    "\n",
    "def find_dimensions():\n",
    "    xmin, xmax = cubes[0][0], cubes[0][0]\n",
    "    ymin, ymax = cubes[0][1], cubes[0][1]\n",
    "    zmin, zmax = cubes[0][2], cubes[0][2]\n",
    "    \n",
    "    for cube in cubes:\n",
    "        xmin = min(cube[0], xmin)\n",
    "        xmax = max(cube[0], xmax)\n",
    "        ymin = min(cube[1], ymin)\n",
    "        ymax = max(cube[1], ymax)\n",
    "        zmin = min(cube[2], zmin)\n",
    "        zmax = max(cube[2], zmax)\n",
    "\n",
    "    return xmin, xmax, ymin, ymax, zmin, zmax\n",
    "\n",
    "xmin, xmax, ymin, ymax, zmin, zmax = find_dimensions()\n",
    "xsize = xmax-xmin + 1\n",
    "ysize = ymax-ymin + 1\n",
    "zsize = zmax-zmin + 1\n",
    "\n",
    "grid = np.zeros(shape=(xsize, ysize, zsize), dtype=int)\n",
    "\n",
    "to_visit = []\n",
    "for i in range(xsize):\n",
    "    for j in range(ysize):\n",
    "        for k in range(zsize):\n",
    "            if i == 0 or i == xmax-xmin:\n",
    "                grid[i,j,k] = 2\n",
    "                to_visit.append((i,j,k))\n",
    "            if j == 0 or j == ymax-ymin:\n",
    "                grid[i,j,k] = 2\n",
    "                to_visit.append((i,j,k))\n",
    "            if k == 0 or k == zmax-zmin:\n",
    "                grid[i,j,k] = 2\n",
    "                to_visit.append((i,j,k))\n",
    "\n",
    "# Fill cubes with 1's\n",
    "for cube in cubes:\n",
    "    grid[cube[0] - xmin, cube[1] - ymin, cube[2] - zmin] = 1\n",
    "\n",
    "while to_visit:\n",
    "    (x,y,z) = to_visit.pop(0)\n",
    "    if grid[x,y,z] == 1:\n",
    "        continue\n",
    "    # grab neighbors\n",
    "    if x != 0 and grid[x - 1,y,z] == 0: # left\n",
    "        grid[x - 1, y, z] = 2\n",
    "        to_visit.append( (x - 1, y, z) )\n",
    "    if x != xmax - xmin and grid[x + 1,y,z] == 0: # right\n",
    "        grid[x + 1, y, z] = 2\n",
    "        to_visit.append( (x + 1, y, z) )\n",
    "    if y != 0 and grid[x, y - 1,z] == 0: # back\n",
    "        grid[x, y - 1, z] = 2\n",
    "        to_visit.append( (x, y - 1, z) ) \n",
    "    if y != ymax - ymin and grid[x,y + 1,z] == 0: # front\n",
    "        grid[x, y + 1, z] = 2\n",
    "        to_visit.append( (x, y + 1, z) )\n",
    "    if z != 0 and grid[x,y,z - 1] == 0: # down\n",
    "        grid[x, y, z - 1] = 2\n",
    "        to_visit.append( (x, y, z - 1) )\n",
    "    if z != zmax - zmin and grid[x,y,z + 1] == 0: # up\n",
    "        grid[x, y, z + 1] = 2\n",
    "        to_visit.append( (x, y, z + 1) )\n",
    "    \n",
    "(xs, ys, zs) = (grid == 0).nonzero() # array of indices of air blocks\n"
   ]
  },
  {
   "cell_type": "code",
   "execution_count": 60,
   "id": "4af5f92d",
   "metadata": {},
   "outputs": [
    {
     "data": {
      "text/plain": [
       "1806"
      ]
     },
     "execution_count": 60,
     "metadata": {},
     "output_type": "execute_result"
    }
   ],
   "source": [
    "(xs, ys, zs) = (grid == 0).nonzero() # array of indices of air blocks\n",
    "\n",
    "total_area = 0\n",
    "\n",
    "for i in range(len(xs)):\n",
    "    x, y, z = xs[i], ys[i], zs[i]\n",
    "    \n",
    "    neighbors = [(x + 1, y, z), (x - 1, y, z), (x, y + 1, z), (x, y - 1, z), (x, y, z + 1), (x, y, z - 1)]\n",
    "    \n",
    "    for neigh in neighbors:\n",
    "        \n",
    "        if neigh[0] >= 0  and neigh[0] <= xmax-xmin and neigh[1] >= 0  and neigh[1] <= ymax-ymin and neigh[2] >= 0  and neigh[2] <= zmax-zmin:\n",
    "            if grid[neigh] == 1:\n",
    "                total_area += 1\n",
    "    \n",
    "total_area"
   ]
  }
 ],
 "metadata": {
  "kernelspec": {
   "display_name": "Python 3 (ipykernel)",
   "language": "python",
   "name": "python3"
  },
  "language_info": {
   "codemirror_mode": {
    "name": "ipython",
    "version": 3
   },
   "file_extension": ".py",
   "mimetype": "text/x-python",
   "name": "python",
   "nbconvert_exporter": "python",
   "pygments_lexer": "ipython3",
   "version": "3.9.13"
  }
 },
 "nbformat": 4,
 "nbformat_minor": 5
}
